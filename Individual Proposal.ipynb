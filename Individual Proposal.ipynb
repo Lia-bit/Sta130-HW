{
 "cells": [
  {
   "cell_type": "markdown",
   "id": "ac872026",
   "metadata": {},
   "source": [
    "# Topic: COVID-19 Prevention and Mask-Wearing Behaviors in Canada: An Analysis of Influencing Factors"
   ]
  },
  {
   "cell_type": "markdown",
   "id": "e1c72b21",
   "metadata": {},
   "source": [
    "## Introduction\n",
    "This project explores adherence to COVID-19 prevention practices and mask-wearing behaviors among Canadians. Using descriptive, comparative, and predictive analyses, we aim to examine how demographic factors, geographic location, and vaccination status influence these behaviors. The analysis includes data summarization, visualization, hypothesis testing, and linear regression, with insights relevant for public health policy."
   ]
  },
  {
   "cell_type": "markdown",
   "id": "67e26c0b",
   "metadata": {},
   "source": [
    "## Analysis 1: Descriptive Statistics of COVID-19 Prevention and Mask-Wearing Behaviors  \n",
    "\n",
    "#### Research Question  \n",
    "What are the general adherence levels to COVID-19 preventive practices among Canadians, and do these levels vary across specific social settings?\n",
    "\n",
    "#### Variables\n",
    "1. **COVID-19 Prevention Practices**:  \n",
    "   - `COVID_prevention_masks`: Measures frequency of mask-wearing in public settings.\n",
    "   - `COVID_prevention_hand_washing`: Tracks frequency of hand-washing.\n",
    "   - `COVID_prevention_reduce_people`: Indicates whether the individual has reduced the number of people they interact with closely.\n",
    "   - `COVID_prevention_avoid_trips`: Reflects whether the individual avoids non-essential trips.\n",
    "   - `COVID_prevention_household`: Measures whether individuals are only socializing within their household.\n",
    "\n",
    "2. **COVID-19 Safety Practices in Social Settings**:  \n",
    "   - `COVID_saftey_walks`: Frequency of going on outdoor walks or hikes with friends.\n",
    "   - `COVID_saftey_bbq`: Attendance at outdoor social gatherings.\n",
    "   - `COVID_saftey_grocer`: Visits to grocery stores.\n",
    "\n",
    "3. **Mask-Wearing in Various Social Settings**:  \n",
    "   - `COVID_masks_walks`: Mask-wearing outdoors with a friend.\n",
    "   - `COVID_masks_bbq`: Mask-wearing at outdoor social gatherings.\n",
    "   - `COVID_masks_grocer`: Mask-wearing in grocery stores.\n",
    "\n",
    "#### Visualizations and Summary Statistics  \n",
    "- **Descriptive Statistics**: The mean, median, and mode for each variable will be calculated to summarize central tendencies.\n",
    "- **Bar Charts** for mask-wearing frequency across various settings.\n",
    "- **Histograms** for continuous adherence data to reveal adherence patterns.\n",
    "\n",
    "#### Analysis Plan  \n",
    "Calculate **descriptive statistics** and **confidence intervals** for each variable to estimate mean adherence levels across settings.\n",
    "\n",
    "#### Hypotheses  \n",
    "- **H0 (Null Hypothesis)**: There is no significant difference in adherence across different settings.\n",
    "- **H1 (Alternative Hypothesis)**: There is a significant difference in adherence across settings, with higher adherence in indoor settings like grocery stores.\n",
    "\n",
    "**Relevance**: Understanding general adherence patterns will help public health agencies reinforce messaging in settings with lower compliance, such as outdoor social gatherings.\n"
   ]
  },
  {
   "cell_type": "markdown",
   "id": "1e92c94a",
   "metadata": {},
   "source": [
    "## Analysis 2: Comparison of Mask-Wearing by Setting and Vaccination Status  \n",
    "\n",
    "#### Research Question  \n",
    "Does vaccination status influence mask-wearing adherence in various social settings?\n",
    "\n",
    "#### Variables  \n",
    "1. **Mask-Wearing in Settings**:  \n",
    "   - `COVID_masks_walks`, `COVID_masks_bbq`, `COVID_masks_grocer` – these represent mask-wearing adherence across settings with different levels of perceived risk.\n",
    "\n",
    "2. **Vaccination Status**:  \n",
    "   - `COVID_vaccinated`: Indicates whether an individual has received the COVID-19 vaccine.\n",
    "\n",
    "#### Visualizations and Summary Statistics  \n",
    "- **Bar charts** comparing adherence levels by vaccination status in each setting.\n",
    "- **Confidence intervals** for adherence by vaccination group to provide interval estimates for each mean.\n",
    "\n",
    "#### Analysis Plan  \n",
    "Use a **two-sample t-test** (or Mann-Whitney U test if non-normal) to compare mean adherence between vaccinated and non-vaccinated individuals in each setting.\n",
    "\n",
    "#### Hypotheses  \n",
    "\n",
    "- **H0 (Null Hypothesis)**: There is no significant difference in mask-wearing adherence between vaccinated and non-vaccinated individuals in each setting.\n",
    "- **H1 (Alternative Hypothesis)**: There is a significant difference in mask-wearing adherence between vaccinated and non-vaccinated individuals in each setting.\n",
    "\n",
    "**Relevance**: Findings will reveal how vaccination status impacts adherence, guiding targeted messaging for mask-wearing in high-density or high-risk environments.\n"
   ]
  },
  {
   "cell_type": "markdown",
   "id": "13500bc2",
   "metadata": {},
   "source": [
    "## Analysis 3: Predicting Indoor Mask-Wearing Adherence Using Demographic and Geographic Factors  \n",
    "\n",
    "#### Research Question  \n",
    "What demographic and geographic factors, along with vaccination status, predict adherence to mask-wearing in indoor public settings?\n",
    "\n",
    "#### Variables \n",
    "1. **Dependent Variable**:  \n",
    "   - A composite adherence score for indoor mask-wearing, calculated from `COVID_masks_theatre`, `COVID_masks_grocer`, and `COVID_masks_mall`.\n",
    "\n",
    "2. **Independent Variables**:  \n",
    "   - **Geographic Variables**:\n",
    "     - `GEO_residence_canada`: Indicates if the respondent lives in Canada, focusing analysis on Canadian residents.\n",
    "     - `GEO_province`: Specifies the province or territory, allowing for regional analysis.\n",
    "     - `GEO_city`: Indicates the city or nearest city of residence, potentially revealing urban vs. rural adherence differences.\n",
    "   - **Demographic Variables**:\n",
    "     - `DEMO_age`: Age, as adherence may increase with age due to perceived risk.\n",
    "     - `DEMO_gender` and `DEMO_gender_text`: Gender identity, allowing for analysis of gender-based differences in adherence.\n",
    "   - `COVID_vaccinated`: Vaccination status, as vaccinated individuals may have different motivations for adhering to mask-wearing.\n",
    "\n",
    "#### Visualizations and Summary Statistics  \n",
    "- **Scatter plots** with regression lines to display relationships between demographic and geographic factors and adherence.\n",
    "- **Confidence intervals** for regression coefficients.\n",
    "\n",
    "#### Analysis Plan  \n",
    "Conduct a **linear regression** with adherence as the dependent variable and demographics/geographic factors as predictors. Verify normality of residuals and linearity.\n",
    "\n",
    "#### Hypotheses  \n",
    "- **H0 (Null Hypothesis)**: The predictor (e.g., age, vaccination status) does not significantly predict mask-wearing adherence in indoor settings.\n",
    "- **H1 (Alternative Hypothesis)**: The predictor (e.g., age, vaccination status) significantly predicts mask-wearing adherence in indoor settings.\n",
    "\n",
    "**Relevance**: Identifying predictors will support targeted health messaging for demographics or regions with lower adherence, promoting improved compliance in high-risk settings.\n"
   ]
  }
 ],
 "metadata": {
  "kernelspec": {
   "display_name": "Python 3 (ipykernel)",
   "language": "python",
   "name": "python3"
  },
  "language_info": {
   "codemirror_mode": {
    "name": "ipython",
    "version": 3
   },
   "file_extension": ".py",
   "mimetype": "text/x-python",
   "name": "python",
   "nbconvert_exporter": "python",
   "pygments_lexer": "ipython3",
   "version": "3.11.6"
  }
 },
 "nbformat": 4,
 "nbformat_minor": 5
}
